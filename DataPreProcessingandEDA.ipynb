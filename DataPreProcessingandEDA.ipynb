{
  "nbformat": 4,
  "nbformat_minor": 0,
  "metadata": {
    "colab": {
      "name": "DataPreProcessingandEDA.ipynb",
      "provenance": [],
      "authorship_tag": "ABX9TyO1P+eVyV9cidqykudCYZq1",
      "include_colab_link": true
    },
    "kernelspec": {
      "name": "python3",
      "display_name": "Python 3"
    },
    "language_info": {
      "name": "python"
    }
  },
  "cells": [
    {
      "cell_type": "markdown",
      "metadata": {
        "id": "view-in-github",
        "colab_type": "text"
      },
      "source": [
        "<a href=\"https://colab.research.google.com/github/Abhijit-Mandal/MachineLearning/blob/main/DataPreProcessingandEDA.ipynb\" target=\"_parent\"><img src=\"https://colab.research.google.com/assets/colab-badge.svg\" alt=\"Open In Colab\"/></a>"
      ]
    },
    {
      "cell_type": "markdown",
      "source": [
        "# **DATA PRE-PROCESSING AND EDA**"
      ],
      "metadata": {
        "id": "f2uuLd5ALJRl"
      }
    },
    {
      "cell_type": "markdown",
      "source": [
        "# **Constant features:**\n",
        "Constant features are those that show the same value, just one value, for all the observations of the dataset. This is the same value for all the rows of the dataset. These features provide no information that allows a machine learning model to discriminate or predict a target.\n",
        "\n",
        "# **Quasi-Constant features:**\n",
        "Quasi-constant features are those that show the same value for the great majority of the observations of the dataset. In general, these features provide little if any information that allows a machine learning model to discriminate or predict a target. But there can be exceptions. So you should be careful when removing these types of features. However as a rule of thumb, remove those that have more than 99% similar values for the output obsverations.\n"
      ],
      "metadata": {
        "id": "feFEAkSsLeEI"
      }
    },
    {
      "cell_type": "code",
      "execution_count": null,
      "metadata": {
        "id": "5izrH83WKxf_"
      },
      "outputs": [],
      "source": [
        "#Deleting duplicates\n",
        "df.drop_duplicates(inplace=True)\n",
        "#Deleting null values\n",
        "df.dropna(inplace=True)\n"
      ]
    },
    {
      "cell_type": "code",
      "source": [
        "#Deleteing Columns\n",
        "df2.drop(columns=[\"Column name\"], inplace=True) "
      ],
      "metadata": {
        "id": "wVUMDw18OIhd"
      },
      "execution_count": null,
      "outputs": []
    },
    {
      "cell_type": "code",
      "source": [
        "#Filling NULL values\n",
        "df1.fillna(\"Hello\", inplace=True)"
      ],
      "metadata": {
        "id": "vRdNVQEIOVIZ"
      },
      "execution_count": null,
      "outputs": []
    },
    {
      "cell_type": "markdown",
      "source": [
        "Data Filtering:\n",
        "\n",
        "filtering data from a data frame is one of the most common operations when cleaning the data. Pandas provide a wide ragnge of methods for selecting data according to the position and label of the rows and columns\n",
        "\n",
        "Null Imputation:\n",
        "Missing values or NULL values are encoded as NaN.\n",
        "\n",
        "Missing data, or missing values, occur when no data / no value is stored for certain observations within a variable.\n",
        "\n",
        "Incomplete data is an unavoidable problem in dealing with most data sources. Missing data is a common occurrence in both data science competitions and business datasets, and may have a significant impact on the conclusions that can be derived from the data.\n",
        "\n",
        "Types of missing data:\n",
        "- Missing Completely at Random, MCAR:\n",
        "- Missing at Random, MAR:\n",
        "- Missing Not at Random, MNAR:\n",
        "\n",
        "Date time conversion:\n",
        "\n",
        "\n"
      ],
      "metadata": {
        "id": "kxMjfwtpMhkE"
      }
    },
    {
      "cell_type": "code",
      "source": [
        "df[\"Data column name\"] = pd.to_datatime(df['Date column name'], format = \"%y-%m-%dT%H:%M:%SZ\",errors='coerce')\n"
      ],
      "metadata": {
        "id": "pwxEx97mOn9_"
      },
      "execution_count": null,
      "outputs": []
    },
    {
      "cell_type": "code",
      "source": [
        "(df.ScheduledDay > df.AppointmentDay).sum() #Data time after appointment date time.\n",
        "\n"
      ],
      "metadata": {
        "id": "tQRGCVDqPwgE"
      },
      "execution_count": null,
      "outputs": []
    },
    {
      "cell_type": "markdown",
      "source": [
        "Data Splitting:\n",
        "Data splitting is the act if paritioning available data into two portions, usually for cross-validatory purposes. One portion of the data is used to develop a predictivemodel. and the other to evaluate the model's performance.\n",
        "\n",
        "- Training set\n",
        " - Training set(Train the model using this)\n",
        " - Val. set(Using this the accuracy is checked and improving the model) \n",
        "- Testing set\n",
        " - Testing set(Used to test the model)"
      ],
      "metadata": {
        "id": "Es9a9lrUPwHS"
      }
    },
    {
      "cell_type": "code",
      "source": [
        ""
      ],
      "metadata": {
        "id": "qt7Xd_AmQjzh"
      },
      "execution_count": null,
      "outputs": []
    },
    {
      "cell_type": "markdown",
      "source": [
        "# **Statistics**\n",
        "\n",
        "# Continuous Variables:\n",
        "The values change continuously and you cant count the number of different values.\n",
        "Ex: ***weight, price, profits, counts, etc.*** Basically a set of possible values which are infinite and uncountable.\n",
        "\n",
        "- Normal Distribution \n",
        "- Uniform Distribution\n",
        "- Exponential Distribution\n",
        "- Chi-Squared Distribution\n",
        "\n",
        "Categorical Data:\n",
        "This is where you can make a distinction between different groups and where you typically ccan list a small number of categories. This includes product type, gender, age group etc. They are descrete. You can count the number of unique inputs.\n",
        "- Bernoulli Distribution\n",
        "- Binomial Distribution\n",
        "- Poisson Distribution\n",
        "\n",
        "\n"
      ],
      "metadata": {
        "id": "Eju1TpHqTb6s"
      }
    },
    {
      "cell_type": "markdown",
      "source": [
        "# Univariate Analysis:\n",
        "It explores each variable in a data set, seperately. It looks at the range of the values, as well as the central tendency. It describe tthe pattern of response to the variable. It descrives each variable on its own. Descriptive statistics describe and summarize data.\n",
        "- Mean\n",
        "- Median \n",
        "- Mode \n",
        "- Variance (Single entry)\n",
        "- Standard Deviation (Group entry) \n",
        "- Skewness (Measure of asymmetry of the distribution. It can be -ve, +ve or undefined)\n",
        "- Kurtosis (Measure heavily tilt or normally tilt)(How much skewed the data is) \n",
        "\n",
        "\n",
        "# Multivariate Analysis:\n",
        "Multivariate analysis (MVA) is based on the statistical principle of multivariate statistics, which involves observation and analysis of more than one variables at a time.\n",
        "\n",
        "- Correlation (Measure that indicates the extent two or more variables fluctuate together) (+ve means the variables +ve or -ve together AND -ve means inversely proportional.)  \n",
        "- Covariance (Measures the joint variabilty of two random variables.) \n",
        "- PCA\n",
        "  "
      ],
      "metadata": {
        "id": "eNGNUKiuVQdg"
      }
    },
    {
      "cell_type": "markdown",
      "source": [
        "Population: Entire pool from which statistical samples are drawn.\n",
        "\n",
        "Sample: Investigation are often restricted to one or more samples drawn from the population.\n",
        "\n",
        "Distribution: Describes the relative frequency.\n",
        "\n",
        "Skewness of a distribution:\n",
        "Left skew: tail extends on the left side.\n",
        "\n",
        "Right skew: tail extends on the right side.\n",
        "\n",
        "Normal Distribution: No skewness on either side of the distribution. \n",
        "\n",
        "Outlier Detection:\n",
        "An outlier is data that deviates significantly from the rest of the objects. We should remove them.\n",
        "\n",
        "Detecting outliers:\n",
        "- Using boxplot\n",
        "- Interquartile Range(IQR) (Uses Percentile generally it is 75%ile - 25%ile)\n"
      ],
      "metadata": {
        "id": "cAJSHR2HaP0_"
      }
    },
    {
      "cell_type": "markdown",
      "source": [
        ""
      ],
      "metadata": {
        "id": "GNhzHArzdzHS"
      }
    },
    {
      "cell_type": "code",
      "source": [
        ""
      ],
      "metadata": {
        "id": "kd--ZaYuQj7O"
      },
      "execution_count": null,
      "outputs": []
    }
  ]
}