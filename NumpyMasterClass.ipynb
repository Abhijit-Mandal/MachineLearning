{
  "nbformat": 4,
  "nbformat_minor": 0,
  "metadata": {
    "colab": {
      "name": "NumpyMasterClass.ipynb",
      "provenance": [],
      "authorship_tag": "ABX9TyPbcMBZjkPtihTgctn9zvcg",
      "include_colab_link": true
    },
    "kernelspec": {
      "name": "python3",
      "display_name": "Python 3"
    },
    "language_info": {
      "name": "python"
    }
  },
  "cells": [
    {
      "cell_type": "markdown",
      "metadata": {
        "id": "view-in-github",
        "colab_type": "text"
      },
      "source": [
        "<a href=\"https://colab.research.google.com/github/Abhijit-Mandal/MachineLearning/blob/main/NumpyMasterClass.ipynb\" target=\"_parent\"><img src=\"https://colab.research.google.com/assets/colab-badge.svg\" alt=\"Open In Colab\"/></a>"
      ]
    },
    {
      "cell_type": "markdown",
      "source": [
        "# **What is NumPy?**\n",
        "Numpy is a library which supports large, multi-dimentional arrays and matrices with large collection of high-level mathematical functions to operate on these arrays.\n",
        "\n",
        "# **Why NumPy?**\n",
        "\n",
        "\n",
        "1.   Lists are slow to process. Numpy provides up to 50x faster speed than traditional python lists.\n",
        "2.   Lots of supporting functions make working with it very easy.\n",
        "3.   Numpy are faster and more compact than Python lists, it uses less memory to store data. It allows the code to be optimised further.\n",
        "4. Mathematical operations on NumPy n-Dimension Arrays. Finding elements in NumPy array. More Powerful slicing and Broadcasting functionality. More efficient data Representation. More Convenient. \n",
        "\n",
        "\n",
        "Reason for it's fast speed: NumPy is based on C language(Read the documentation). \n",
        "\n"
      ],
      "metadata": {
        "id": "phjwb7FATFE8"
      }
    },
    {
      "cell_type": "markdown",
      "source": [
        "# **Ndarray:**\n",
        "\n",
        "*   An ndarray is a(usually fixed-size) multidimentional container of items of the same type and size.\n",
        "\n",
        "*  When working with NumPy is simply referred to as an array.\n",
        "\n",
        "*  It is a fixed-sized array in memory that contains data of the same type, such as integers or floating point values."
      ],
      "metadata": {
        "id": "dnJHz8__VsGL"
      }
    },
    {
      "cell_type": "markdown",
      "source": [
        "# **Attributes:**\n",
        "\n",
        "**np.ndim()** - Represents the number of dimensions (axes) of the ndarray.\n",
        "\n",
        "**np.shape()** - Shape is a tuple of integers representing the dize of the ndarray in each dimension.\n",
        "\n",
        "**np.size()** - Total number of elements in the ndaraay.\n",
        "\n",
        "**nparray.dtype** - Returns the data type of the elements of the Numpy Array.\n",
        "\n",
        "**ndarray.itemsize** - Itemsize returns the size (in bytes) of each element of a Numpy Array. \n"
      ],
      "metadata": {
        "id": "L3m1PUsKWSvu"
      }
    },
    {
      "cell_type": "code",
      "execution_count": 6,
      "metadata": {
        "id": "zS4D84ICQZjL"
      },
      "outputs": [],
      "source": [
        "import numpy as np\n"
      ]
    },
    {
      "cell_type": "markdown",
      "source": [
        "1-D Array"
      ],
      "metadata": {
        "id": "_Yw2oxj_arSm"
      }
    },
    {
      "cell_type": "code",
      "source": [
        "array = np.array([1,2,3,4])"
      ],
      "metadata": {
        "id": "jOKJskTvQhNE"
      },
      "execution_count": 7,
      "outputs": []
    },
    {
      "cell_type": "code",
      "source": [
        "array\n"
      ],
      "metadata": {
        "colab": {
          "base_uri": "https://localhost:8080/"
        },
        "id": "JiBAtBqpQpcg",
        "outputId": "8d7aa45e-7bf1-41eb-bcd8-0aaee28e31b3"
      },
      "execution_count": 8,
      "outputs": [
        {
          "output_type": "execute_result",
          "data": {
            "text/plain": [
              "array([1, 2, 3, 4])"
            ]
          },
          "metadata": {},
          "execution_count": 8
        }
      ]
    },
    {
      "cell_type": "code",
      "source": [
        "type(array)"
      ],
      "metadata": {
        "colab": {
          "base_uri": "https://localhost:8080/"
        },
        "id": "bRcUihUJRDGS",
        "outputId": "d58424d4-0f34-474a-b47d-f05e36c8e80d"
      },
      "execution_count": 9,
      "outputs": [
        {
          "output_type": "execute_result",
          "data": {
            "text/plain": [
              "numpy.ndarray"
            ]
          },
          "metadata": {},
          "execution_count": 9
        }
      ]
    },
    {
      "cell_type": "code",
      "source": [
        "#Tuple to NumPy:\n",
        "\n",
        "x=(2,4)\n",
        "y=np.array(x)\n",
        "print(type(x),type(y))"
      ],
      "metadata": {
        "colab": {
          "base_uri": "https://localhost:8080/"
        },
        "id": "uV3N98Anbn03",
        "outputId": "8e91c21c-6557-442c-dd8b-d650235d78d4"
      },
      "execution_count": 28,
      "outputs": [
        {
          "output_type": "stream",
          "name": "stdout",
          "text": [
            "<class 'tuple'> <class 'numpy.ndarray'>\n"
          ]
        }
      ]
    },
    {
      "cell_type": "markdown",
      "source": [
        "0-D Array(Scalar):"
      ],
      "metadata": {
        "id": "AmYhVsaobJQj"
      }
    },
    {
      "cell_type": "code",
      "source": [
        "\n",
        "arr=np.array(12)\n",
        "print(arr)"
      ],
      "metadata": {
        "colab": {
          "base_uri": "https://localhost:8080/"
        },
        "id": "hfBin3RpRE_E",
        "outputId": "a3416036-466e-414d-cefc-05caa7da33d5"
      },
      "execution_count": 20,
      "outputs": [
        {
          "output_type": "stream",
          "name": "stdout",
          "text": [
            "12\n"
          ]
        }
      ]
    },
    {
      "cell_type": "markdown",
      "source": [
        "1-D Array:"
      ],
      "metadata": {
        "id": "YkqLMughbOZT"
      }
    },
    {
      "cell_type": "code",
      "source": [
        "\n",
        "arr=np.array([1,2,3])\n",
        "print(arr.ndim)\n",
        "print(arr.shape)\n",
        "\n"
      ],
      "metadata": {
        "colab": {
          "base_uri": "https://localhost:8080/"
        },
        "id": "Rx8STYFpYDsJ",
        "outputId": "eb7eb76d-4e92-47a3-d4e4-d36e02b2a829"
      },
      "execution_count": 26,
      "outputs": [
        {
          "output_type": "stream",
          "name": "stdout",
          "text": [
            "1\n",
            "(3,)\n"
          ]
        }
      ]
    },
    {
      "cell_type": "markdown",
      "source": [
        "2-D Array:"
      ],
      "metadata": {
        "id": "2pCPpfdebQxl"
      }
    },
    {
      "cell_type": "code",
      "source": [
        "arr=np.array([[1,2,3],[4,5,6]])\n",
        "print(arr.ndim)\n",
        "print(arr.shape)"
      ],
      "metadata": {
        "colab": {
          "base_uri": "https://localhost:8080/"
        },
        "id": "2EGuiJkXa1t-",
        "outputId": "adc772cc-2b61-41f7-c2a6-bebc60e2e07a"
      },
      "execution_count": 27,
      "outputs": [
        {
          "output_type": "stream",
          "name": "stdout",
          "text": [
            "2\n",
            "(2, 3)\n"
          ]
        }
      ]
    },
    {
      "cell_type": "markdown",
      "source": [
        "Array Multiplication:"
      ],
      "metadata": {
        "id": "P_EuIfNMb1JA"
      }
    },
    {
      "cell_type": "code",
      "source": [
        "arr_1=np.array([3,6,7,5])\n",
        "arr_2=np.array([4,5,1,7])\n",
        "\n",
        "arr_3 = arr_1*arr_2\n",
        "print(arr_3)"
      ],
      "metadata": {
        "colab": {
          "base_uri": "https://localhost:8080/"
        },
        "id": "0NcVFG74b0IK",
        "outputId": "a75857dc-1f4a-472f-f79c-912b86f188ae"
      },
      "execution_count": 31,
      "outputs": [
        {
          "output_type": "stream",
          "name": "stdout",
          "text": [
            "[12 30  7 35]\n"
          ]
        }
      ]
    },
    {
      "cell_type": "markdown",
      "source": [
        "Common functions:\n",
        "\n",
        "\n"
      ],
      "metadata": {
        "id": "JkaaQx75cgVu"
      }
    },
    {
      "cell_type": "code",
      "source": [
        "#np.one() Creates array of 1s. Syntax:(rows,col)\n",
        "np.ones((5,5))\n",
        "#Using dtype:\n",
        "np.ones((2,5), dtype=float)"
      ],
      "metadata": {
        "colab": {
          "base_uri": "https://localhost:8080/"
        },
        "id": "n5xPIRcCcjXr",
        "outputId": "597e003e-c46a-4ebb-aeb4-5618dbe5eb4c"
      },
      "execution_count": 36,
      "outputs": [
        {
          "output_type": "execute_result",
          "data": {
            "text/plain": [
              "array([[1., 1., 1., 1., 1.],\n",
              "       [1., 1., 1., 1., 1.]])"
            ]
          },
          "metadata": {},
          "execution_count": 36
        }
      ]
    },
    {
      "cell_type": "code",
      "source": [
        "np.random.rand(5,5)"
      ],
      "metadata": {
        "colab": {
          "base_uri": "https://localhost:8080/"
        },
        "id": "XqO6jZvDdJRA",
        "outputId": "f27ad0a7-6325-45c5-93e7-5006c79f31c7"
      },
      "execution_count": 62,
      "outputs": [
        {
          "output_type": "execute_result",
          "data": {
            "text/plain": [
              "array([[0.65105221, 0.50924626, 0.56089217, 0.31925491, 0.21855281],\n",
              "       [0.17651654, 0.22909628, 0.47183172, 0.11985603, 0.51021829],\n",
              "       [0.11153688, 0.6708657 , 0.98152225, 0.34633982, 0.10822188],\n",
              "       [0.93424166, 0.14420891, 0.7885412 , 0.34449328, 0.23338527],\n",
              "       [0.31779729, 0.74890518, 0.45701396, 0.99745683, 0.73821303]])"
            ]
          },
          "metadata": {},
          "execution_count": 62
        }
      ]
    },
    {
      "cell_type": "markdown",
      "source": [
        "3-D Arrays:"
      ],
      "metadata": {
        "id": "VVcMDVXjdv9M"
      }
    },
    {
      "cell_type": "code",
      "source": [
        "x = np.array([[\n",
        "               [1,3],[2,4]\n",
        "]])\n",
        "x.shape"
      ],
      "metadata": {
        "colab": {
          "base_uri": "https://localhost:8080/"
        },
        "id": "QekQ2UXDdyhg",
        "outputId": "099bf9c0-97e9-4c25-94a0-3136cd78bc2e"
      },
      "execution_count": 41,
      "outputs": [
        {
          "output_type": "execute_result",
          "data": {
            "text/plain": [
              "(1, 2, 2)"
            ]
          },
          "metadata": {},
          "execution_count": 41
        }
      ]
    },
    {
      "cell_type": "code",
      "source": [
        "array_3d = np.arange(16).reshape(4,4,1)\n",
        "print(array_3d)"
      ],
      "metadata": {
        "colab": {
          "base_uri": "https://localhost:8080/"
        },
        "id": "m5JwDUt7djBY",
        "outputId": "141d36e2-1142-495b-ea33-50226413862e"
      },
      "execution_count": 43,
      "outputs": [
        {
          "output_type": "stream",
          "name": "stdout",
          "text": [
            "[[[ 0]\n",
            "  [ 1]\n",
            "  [ 2]\n",
            "  [ 3]]\n",
            "\n",
            " [[ 4]\n",
            "  [ 5]\n",
            "  [ 6]\n",
            "  [ 7]]\n",
            "\n",
            " [[ 8]\n",
            "  [ 9]\n",
            "  [10]\n",
            "  [11]]\n",
            "\n",
            " [[12]\n",
            "  [13]\n",
            "  [14]\n",
            "  [15]]]\n"
          ]
        }
      ]
    },
    {
      "cell_type": "code",
      "source": [
        "arr = [[1,2,3],[4,5,6]]\n",
        "\n",
        "print(np.ndim(arr))\n",
        "print(np.shape(arr))\n",
        "print(np.size(arr))\n",
        "print(array_3d.dtype)\n",
        "print(array_3d.itemsize)"
      ],
      "metadata": {
        "colab": {
          "base_uri": "https://localhost:8080/"
        },
        "id": "sUFipZkeeWoW",
        "outputId": "ba5c62ba-c2e6-4586-be3a-65b4408db8e8"
      },
      "execution_count": 49,
      "outputs": [
        {
          "output_type": "stream",
          "name": "stdout",
          "text": [
            "2\n",
            "(2, 3)\n",
            "6\n",
            "int64\n",
            "8\n"
          ]
        }
      ]
    },
    {
      "cell_type": "code",
      "source": [
        "#Slicing:\n",
        "#Start is inclusive and End is exclusive.\n",
        "#[Start:End] -format of slicing. \n",
        "#[Start:End:Step] - Another format of slicing.\n",
        "\n"
      ],
      "metadata": {
        "id": "jkg8o943YNRC"
      },
      "execution_count": 15,
      "outputs": []
    },
    {
      "cell_type": "code",
      "source": [
        "name=\"SIMPLELEARN\"\n",
        "print(name[1:7:2])\n",
        "\n",
        "lst=[1,2,3,4,5,6,7,8]\n",
        "print(lst[:9:])\n",
        "\n",
        "tp1=(1,2,3,4,5,6,7,8)\n",
        "print(tp1[-1:-9:-1])"
      ],
      "metadata": {
        "colab": {
          "base_uri": "https://localhost:8080/"
        },
        "id": "IP5PbuLAfB6K",
        "outputId": "32724869-817d-4c07-f454-256fa3f91e7c"
      },
      "execution_count": 55,
      "outputs": [
        {
          "output_type": "stream",
          "name": "stdout",
          "text": [
            "IPE\n",
            "[1, 2, 3, 4, 5, 6, 7, 8]\n",
            "(8, 7, 6, 5, 4, 3, 2, 1)\n"
          ]
        }
      ]
    },
    {
      "cell_type": "markdown",
      "source": [
        "numpy.where()\n",
        "This function either replaces or processes the elemenys of the numpy array that satisfy the condition.\n",
        "\n",
        "Syntax:\n",
        "numpy.where(condition[x,y])\n"
      ],
      "metadata": {
        "id": "0rUELkUjY8z7"
      }
    },
    {
      "cell_type": "code",
      "source": [
        "arr2=np.array([[-1,2,-3],[4,5,-6]])\n",
        "b=np.where(arr2<0, \"Negative\", \"Positive\")\n",
        "print(arr2)\n",
        "print(b)"
      ],
      "metadata": {
        "colab": {
          "base_uri": "https://localhost:8080/"
        },
        "id": "0xdHx6faZV-j",
        "outputId": "aa33a484-6343-4649-86fe-a582da271387"
      },
      "execution_count": 56,
      "outputs": [
        {
          "output_type": "stream",
          "name": "stdout",
          "text": [
            "[[-1  2 -3]\n",
            " [ 4  5 -6]]\n",
            "[['Negative' 'Positive' 'Negative']\n",
            " ['Positive' 'Positive' 'Negative']]\n"
          ]
        }
      ]
    },
    {
      "cell_type": "markdown",
      "source": [
        "Rounding Functions:\n",
        "\n",
        "numpy.around(): The around() method takes up to three parameters and returns array with all the elements being rounded off to the specified value"
      ],
      "metadata": {
        "id": "jTnzW-b1Ztlr"
      }
    },
    {
      "cell_type": "code",
      "source": [
        "in_array=[.5, 2.5, 3.5, 4.5, 10.1]\n",
        "rounded = np.around(in_array)\n",
        "print(rounded)"
      ],
      "metadata": {
        "colab": {
          "base_uri": "https://localhost:8080/"
        },
        "id": "VaNZqyFPgBID",
        "outputId": "2b425f14-a50b-48c1-e09b-c2e2dc1bbffc"
      },
      "execution_count": 57,
      "outputs": [
        {
          "output_type": "stream",
          "name": "stdout",
          "text": [
            "[ 0.  2.  4.  4. 10.]\n"
          ]
        }
      ]
    },
    {
      "cell_type": "code",
      "source": [
        ""
      ],
      "metadata": {
        "id": "DXEtgdXIaB-y"
      },
      "execution_count": 59,
      "outputs": []
    },
    {
      "cell_type": "markdown",
      "source": [
        "Statistical Function:\n",
        "\n",
        "numpy.sum()\n",
        "The np.sum() used to find the sum of elements over a given axis. The default, axis=None\n",
        "\n",
        "numpy.mean()\n",
        "The np.mean() function is used to compute the arithmetic mean along the specifies axis. Returns the average of the array elements. "
      ],
      "metadata": {
        "id": "I_iYKdV0aFsa"
      }
    },
    {
      "cell_type": "code",
      "source": [
        "lst=[.5, 2.5, 3.5, 4.5, 10.1]\n",
        "\n",
        "print(np.mean(lst))\n",
        "print(np.sum(lst))\n",
        "print(np.std(lst))\n",
        "print(np.median(lst))\n"
      ],
      "metadata": {
        "colab": {
          "base_uri": "https://localhost:8080/"
        },
        "id": "AoXrZbDyY8al",
        "outputId": "ac29af74-f295-4e2d-afde-02427aa32512"
      },
      "execution_count": 59,
      "outputs": [
        {
          "output_type": "stream",
          "name": "stdout",
          "text": [
            "4.220000000000001\n",
            "21.1\n",
            "3.2239106687375814\n",
            "3.5\n"
          ]
        }
      ]
    },
    {
      "cell_type": "code",
      "source": [
        ""
      ],
      "metadata": {
        "id": "yjQTed-fY3t4"
      },
      "execution_count": null,
      "outputs": []
    }
  ]
}